{
 "cells": [
  {
   "cell_type": "code",
   "execution_count": null,
   "metadata": {
    "vscode": {
     "languageId": "plaintext"
    }
   },
   "outputs": [],
   "source": [
    "import numpy as np\n",
    "import torch\n",
    "import tensorflow as tf\n",
    "import scipy.sparse as sp\n",
    "import time\n",
    "import matplotlib.pyplot as plt\n",
    "\n",
    "# Generate matrix sizes\n",
    "matrix_sizes = []\n",
    "matrix_sizes.extend(range(3, 100, 5))  # 3 to 100\n",
    "matrix_sizes.extend(range(100, 1000, 50))  # 100 to 1000\n",
    "matrix_sizes.extend(range(1000, 10000, 500))  # 1000 to 10000\n",
    "matrix_sizes.extend(range(10000, 15001, 5000))  # 10000 to 15000\n",
    "\n",
    "libraries = ['numpy', 'pytorch', 'tensorflow']\n",
    "matrix_type = 'sparse'\n",
    "\n",
    "# Dictionary to store results\n",
    "results = {lib: {'sizes': [], 'times': []} for lib in libraries}"
   ]
  },
  {
   "cell_type": "code",
   "execution_count": null,
   "metadata": {},
   "outputs": [],
   "source": [
    "matrix_type = 'dense'\n",
    "# matrix_type = 'sparse'"
   ]
  },
  {
   "cell_type": "code",
   "execution_count": null,
   "metadata": {
    "vscode": {
     "languageId": "plaintext"
    }
   },
   "outputs": [],
   "source": [
    "# Perform SVD comparison\n",
    "for size in matrix_sizes:\n",
    "    print(f\"\\nProcessing matrix size: {size}x{size}\")\n",
    "\n",
    "    # Generate matrix\n",
    "    if matrix_type == 'dense':\n",
    "        matrix = np.random.rand(size, size)\n",
    "    else:  # sparse\n",
    "        matrix = np.random.rand(size, size)\n",
    "        mask = np.random.random(matrix.shape) < 0.95\n",
    "        matrix[mask] = 0\n",
    "        matrix = sp.csr_matrix(matrix)\n",
    "\n",
    "    for lib in libraries:\n",
    "        start_time = time.time()\n",
    "\n",
    "        try:\n",
    "            if lib == 'numpy':\n",
    "                if matrix_type == 'dense':\n",
    "                    U, S, Vt = np.linalg.svd(matrix, full_matrices=False)\n",
    "                else:  # sparse\n",
    "                    U, S, Vt = sp.linalg.svds(matrix, k=min(matrix.shape) - 1)\n",
    "                    U = np.pad(U, ((0, 0), (0, matrix.shape[0] - U.shape[1])), mode='constant')\n",
    "                    Vt = np.pad(Vt, ((0, matrix.shape[1] - Vt.shape[0]), (0, 0)), mode='constant')\n",
    "\n",
    "            elif lib == 'pytorch':\n",
    "                if matrix_type == 'dense':\n",
    "                    U, S, Vt = torch.linalg.svd(torch.tensor(matrix), full_matrices=False)\n",
    "                else:  # sparse\n",
    "                    matrix_dense = matrix.toarray()\n",
    "                    U, S, Vt = torch.linalg.svd(torch.tensor(matrix_dense), full_matrices=False)\n",
    "                U, S, Vt = U.numpy(), S.numpy(), Vt.numpy()\n",
    "\n",
    "            elif lib == 'tensorflow':\n",
    "                if matrix_type == 'dense':\n",
    "                    S, U, Vt = tf.linalg.svd(matrix, full_matrices=False)\n",
    "                else:  # sparse\n",
    "                    matrix_dense = matrix.toarray()\n",
    "                    S, U, Vt = tf.linalg.svd(matrix_dense, full_matrices=False)\n",
    "                U, S, Vt = U.numpy(), S.numpy(), Vt.numpy()\n",
    "\n",
    "            else:\n",
    "                raise ValueError(f\"Unsupported library: {lib}\")\n",
    "\n",
    "            end_time = time.time()\n",
    "\n",
    "            results[lib]['sizes'].append(size)\n",
    "            results[lib]['times'].append(end_time - start_time)\n",
    "\n",
    "            print(f\"{lib.upper()} SVD completed in {end_time - start_time:.4f} seconds\")\n",
    "\n",
    "        except Exception as e:\n",
    "            print(f\"{lib.upper()} Error: {str(e)}\")\n",
    "            results[lib]['sizes'].append(size)\n",
    "            results[lib]['times'].append(np.nan)"
   ]
  },
  {
   "cell_type": "code",
   "execution_count": null,
   "metadata": {
    "vscode": {
     "languageId": "plaintext"
    }
   },
   "outputs": [],
   "source": [
    "# Plot results\n",
    "plt.figure(figsize=(15, 10))\n",
    "for lib in libraries:\n",
    "    plt.plot(results[lib]['sizes'], results[lib]['times'], label=f\"{lib.upper()} SVD\", marker='o')\n",
    "\n",
    "plt.title('SVD Performance Comparison on Sparse Matrices', fontsize=16)\n",
    "plt.xlabel('Matrix Size', fontsize=14)\n",
    "plt.ylabel('Time (seconds)', fontsize=14)\n",
    "plt.legend(fontsize=12)\n",
    "plt.xscale('log')\n",
    "plt.yscale('log')\n",
    "plt.grid(True, which=\"both\", ls=\"-\", alpha=0.2)\n",
    "plt.tight_layout()\n",
    "plt.savefig('svd_sparse_performance_comparison.png')\n",
    "plt.show()"
   ]
  },
  {
   "cell_type": "code",
   "execution_count": null,
   "metadata": {},
   "outputs": [],
   "source": [
    "# Plot results\n",
    "plt.figure(figsize=(15, 10))\n",
    "for lib in libraries:\n",
    "    plt.plot(results[lib]['sizes'], results[lib]['times'], label=f\"{lib.upper()} SVD\", marker='o')\n",
    "\n",
    "plt.title('SVD Performance Comparison on Dense Matrices', fontsize=16)\n",
    "plt.xlabel('Matrix Size', fontsize=14)\n",
    "plt.ylabel('Time (seconds)', fontsize=14)\n",
    "plt.legend(fontsize=12)\n",
    "plt.xscale('log')\n",
    "plt.yscale('log')\n",
    "plt.grid(True, which=\"both\", ls=\"-\", alpha=0.2)\n",
    "plt.tight_layout()\n",
    "plt.savefig('svd_dense_performance_comparison.png')\n",
    "plt.show()"
   ]
  }
 ],
 "metadata": {
  "kernelspec": {
   "display_name": "Python 3 (ipykernel)",
   "language": "python",
   "name": "python3"
  },
  "language_info": {
   "codemirror_mode": {
    "name": "ipython",
    "version": 3
   },
   "file_extension": ".py",
   "mimetype": "text/x-python",
   "name": "python",
   "nbconvert_exporter": "python",
   "pygments_lexer": "ipython3",
   "version": "3.9.16"
  },
  "toc": {
   "base_numbering": 1,
   "nav_menu": {},
   "number_sections": true,
   "sideBar": true,
   "skip_h1_title": false,
   "title_cell": "Table of Contents",
   "title_sidebar": "Contents",
   "toc_cell": false,
   "toc_position": {},
   "toc_section_display": true,
   "toc_window_display": false
  }
 },
 "nbformat": 4,
 "nbformat_minor": 2
}
